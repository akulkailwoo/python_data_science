{
 "cells": [
  {
   "cell_type": "code",
   "execution_count": null,
   "metadata": {},
   "outputs": [],
   "source": [
    "#https://datahack.analyticsvidhya.com/contest/practice-problem-loan-prediction-iii/"
   ]
  },
  {
   "cell_type": "code",
   "execution_count": 1,
   "metadata": {},
   "outputs": [],
   "source": [
    "#### import numpy as np\n",
    "import matplotlib.pyplot as plt\n",
    "import pandas as pd\n",
    "%matplotlib notebook\n",
    "import seaborn as sns         \n",
    "pd.options.display.max_columns = None # show all columns\n",
    "from datetime import datetime, timedelta\n",
    "import numpy as np"
   ]
  },
  {
   "cell_type": "code",
   "execution_count": 2,
   "metadata": {},
   "outputs": [],
   "source": [
    "#setting working directory\n",
    "import os\n",
    "os.getcwd()\n",
    "os.chdir('/.../data')"
   ]
  },
  {
   "cell_type": "code",
   "execution_count": 105,
   "metadata": {},
   "outputs": [],
   "source": [
    "train = pd.read_csv('train.csv')\n",
    "test = pd.read_csv('test.csv')\n",
    "sample = pd.read_csv('sample.csv')"
   ]
  },
  {
   "cell_type": "code",
   "execution_count": 106,
   "metadata": {},
   "outputs": [],
   "source": [
    "#Combine test & train data\n",
    "train['type'] = 'train'\n",
    "test['type'] = 'test'\n",
    "comb = pd.concat([train, test], ignore_index = True, sort = False)"
   ]
  },
  {
   "cell_type": "code",
   "execution_count": 107,
   "metadata": {},
   "outputs": [
    {
     "data": {
      "text/plain": [
       "((614, 14), (367, 13), (981, 14))"
      ]
     },
     "execution_count": 107,
     "metadata": {},
     "output_type": "execute_result"
    }
   ],
   "source": [
    "train.shape, test.shape, comb.shape"
   ]
  },
  {
   "cell_type": "code",
   "execution_count": 108,
   "metadata": {},
   "outputs": [
    {
     "data": {
      "text/html": [
       "<div>\n",
       "<style scoped>\n",
       "    .dataframe tbody tr th:only-of-type {\n",
       "        vertical-align: middle;\n",
       "    }\n",
       "\n",
       "    .dataframe tbody tr th {\n",
       "        vertical-align: top;\n",
       "    }\n",
       "\n",
       "    .dataframe thead th {\n",
       "        text-align: right;\n",
       "    }\n",
       "</style>\n",
       "<table border=\"1\" class=\"dataframe\">\n",
       "  <thead>\n",
       "    <tr style=\"text-align: right;\">\n",
       "      <th></th>\n",
       "      <th>Loan_ID</th>\n",
       "      <th>Gender</th>\n",
       "      <th>Married</th>\n",
       "      <th>Dependents</th>\n",
       "      <th>Education</th>\n",
       "      <th>Self_Employed</th>\n",
       "      <th>ApplicantIncome</th>\n",
       "      <th>CoapplicantIncome</th>\n",
       "      <th>LoanAmount</th>\n",
       "      <th>Loan_Amount_Term</th>\n",
       "      <th>Credit_History</th>\n",
       "      <th>Property_Area</th>\n",
       "      <th>Loan_Status</th>\n",
       "      <th>type</th>\n",
       "    </tr>\n",
       "  </thead>\n",
       "  <tbody>\n",
       "    <tr>\n",
       "      <th>0</th>\n",
       "      <td>LP001002</td>\n",
       "      <td>Male</td>\n",
       "      <td>No</td>\n",
       "      <td>0</td>\n",
       "      <td>Graduate</td>\n",
       "      <td>No</td>\n",
       "      <td>5849</td>\n",
       "      <td>0.0</td>\n",
       "      <td>NaN</td>\n",
       "      <td>360.0</td>\n",
       "      <td>1.0</td>\n",
       "      <td>Urban</td>\n",
       "      <td>Y</td>\n",
       "      <td>train</td>\n",
       "    </tr>\n",
       "    <tr>\n",
       "      <th>1</th>\n",
       "      <td>LP001003</td>\n",
       "      <td>Male</td>\n",
       "      <td>Yes</td>\n",
       "      <td>1</td>\n",
       "      <td>Graduate</td>\n",
       "      <td>No</td>\n",
       "      <td>4583</td>\n",
       "      <td>1508.0</td>\n",
       "      <td>128.0</td>\n",
       "      <td>360.0</td>\n",
       "      <td>1.0</td>\n",
       "      <td>Rural</td>\n",
       "      <td>N</td>\n",
       "      <td>train</td>\n",
       "    </tr>\n",
       "    <tr>\n",
       "      <th>2</th>\n",
       "      <td>LP001005</td>\n",
       "      <td>Male</td>\n",
       "      <td>Yes</td>\n",
       "      <td>0</td>\n",
       "      <td>Graduate</td>\n",
       "      <td>Yes</td>\n",
       "      <td>3000</td>\n",
       "      <td>0.0</td>\n",
       "      <td>66.0</td>\n",
       "      <td>360.0</td>\n",
       "      <td>1.0</td>\n",
       "      <td>Urban</td>\n",
       "      <td>Y</td>\n",
       "      <td>train</td>\n",
       "    </tr>\n",
       "    <tr>\n",
       "      <th>3</th>\n",
       "      <td>LP001006</td>\n",
       "      <td>Male</td>\n",
       "      <td>Yes</td>\n",
       "      <td>0</td>\n",
       "      <td>Not Graduate</td>\n",
       "      <td>No</td>\n",
       "      <td>2583</td>\n",
       "      <td>2358.0</td>\n",
       "      <td>120.0</td>\n",
       "      <td>360.0</td>\n",
       "      <td>1.0</td>\n",
       "      <td>Urban</td>\n",
       "      <td>Y</td>\n",
       "      <td>train</td>\n",
       "    </tr>\n",
       "    <tr>\n",
       "      <th>4</th>\n",
       "      <td>LP001008</td>\n",
       "      <td>Male</td>\n",
       "      <td>No</td>\n",
       "      <td>0</td>\n",
       "      <td>Graduate</td>\n",
       "      <td>No</td>\n",
       "      <td>6000</td>\n",
       "      <td>0.0</td>\n",
       "      <td>141.0</td>\n",
       "      <td>360.0</td>\n",
       "      <td>1.0</td>\n",
       "      <td>Urban</td>\n",
       "      <td>Y</td>\n",
       "      <td>train</td>\n",
       "    </tr>\n",
       "  </tbody>\n",
       "</table>\n",
       "</div>"
      ],
      "text/plain": [
       "    Loan_ID Gender Married Dependents     Education Self_Employed  \\\n",
       "0  LP001002   Male      No          0      Graduate            No   \n",
       "1  LP001003   Male     Yes          1      Graduate            No   \n",
       "2  LP001005   Male     Yes          0      Graduate           Yes   \n",
       "3  LP001006   Male     Yes          0  Not Graduate            No   \n",
       "4  LP001008   Male      No          0      Graduate            No   \n",
       "\n",
       "   ApplicantIncome  CoapplicantIncome  LoanAmount  Loan_Amount_Term  \\\n",
       "0             5849                0.0         NaN             360.0   \n",
       "1             4583             1508.0       128.0             360.0   \n",
       "2             3000                0.0        66.0             360.0   \n",
       "3             2583             2358.0       120.0             360.0   \n",
       "4             6000                0.0       141.0             360.0   \n",
       "\n",
       "   Credit_History Property_Area Loan_Status   type  \n",
       "0             1.0         Urban           Y  train  \n",
       "1             1.0         Rural           N  train  \n",
       "2             1.0         Urban           Y  train  \n",
       "3             1.0         Urban           Y  train  \n",
       "4             1.0         Urban           Y  train  "
      ]
     },
     "execution_count": 108,
     "metadata": {},
     "output_type": "execute_result"
    }
   ],
   "source": [
    "comb.head()"
   ]
  },
  {
   "cell_type": "code",
   "execution_count": 109,
   "metadata": {},
   "outputs": [],
   "source": [
    "comb.columns = map(str.lower, comb.columns)"
   ]
  },
  {
   "cell_type": "code",
   "execution_count": 110,
   "metadata": {},
   "outputs": [
    {
     "data": {
      "text/plain": [
       "loan_id                0\n",
       "gender                24\n",
       "married                3\n",
       "dependents            25\n",
       "education              0\n",
       "self_employed         55\n",
       "applicantincome        0\n",
       "coapplicantincome      0\n",
       "loanamount            27\n",
       "loan_amount_term      20\n",
       "credit_history        79\n",
       "property_area          0\n",
       "loan_status          367\n",
       "type                   0\n",
       "dtype: int64"
      ]
     },
     "execution_count": 110,
     "metadata": {},
     "output_type": "execute_result"
    }
   ],
   "source": [
    "#missing data\n",
    "comb.isnull().sum()"
   ]
  },
  {
   "cell_type": "code",
   "execution_count": 111,
   "metadata": {},
   "outputs": [
    {
     "data": {
      "text/plain": [
       "Male      775\n",
       "Female    182\n",
       "Name: gender, dtype: int64"
      ]
     },
     "execution_count": 111,
     "metadata": {},
     "output_type": "execute_result"
    }
   ],
   "source": [
    "comb.gender.value_counts()"
   ]
  },
  {
   "cell_type": "code",
   "execution_count": 112,
   "metadata": {},
   "outputs": [
    {
     "data": {
      "text/plain": [
       "Yes    631\n",
       "No     347\n",
       "Name: married, dtype: int64"
      ]
     },
     "execution_count": 112,
     "metadata": {},
     "output_type": "execute_result"
    }
   ],
   "source": [
    "comb.married.value_counts()"
   ]
  },
  {
   "cell_type": "code",
   "execution_count": 113,
   "metadata": {},
   "outputs": [
    {
     "data": {
      "text/plain": [
       "loan_id               object\n",
       "gender                object\n",
       "married               object\n",
       "dependents            object\n",
       "education             object\n",
       "self_employed         object\n",
       "applicantincome        int64\n",
       "coapplicantincome    float64\n",
       "loanamount           float64\n",
       "loan_amount_term     float64\n",
       "credit_history       float64\n",
       "property_area         object\n",
       "loan_status           object\n",
       "type                  object\n",
       "dtype: object"
      ]
     },
     "execution_count": 113,
     "metadata": {},
     "output_type": "execute_result"
    }
   ],
   "source": [
    "comb.dtypes"
   ]
  },
  {
   "cell_type": "code",
   "execution_count": 114,
   "metadata": {},
   "outputs": [],
   "source": [
    "#making dependents integer from string\n",
    "comb.dependents = pd.to_numeric(comb.dependents, errors='coerce')"
   ]
  },
  {
   "cell_type": "code",
   "execution_count": 115,
   "metadata": {},
   "outputs": [
    {
     "data": {
      "text/plain": [
       "married\n",
       "No     0.196319\n",
       "Yes    0.771800\n",
       "Name: dependents, dtype: float64"
      ]
     },
     "execution_count": 115,
     "metadata": {},
     "output_type": "execute_result"
    }
   ],
   "source": [
    "comb.groupby(['married']).dependents.mean()"
   ]
  },
  {
   "cell_type": "code",
   "execution_count": 116,
   "metadata": {},
   "outputs": [
    {
     "data": {
      "text/plain": [
       "married\n",
       "No     0.0\n",
       "Yes    1.0\n",
       "Name: dependents, dtype: float64"
      ]
     },
     "execution_count": 116,
     "metadata": {},
     "output_type": "execute_result"
    }
   ],
   "source": [
    "comb.groupby(['married']).dependents.median()"
   ]
  },
  {
   "cell_type": "code",
   "execution_count": 117,
   "metadata": {},
   "outputs": [
    {
     "data": {
      "text/html": [
       "<div>\n",
       "<style scoped>\n",
       "    .dataframe tbody tr th:only-of-type {\n",
       "        vertical-align: middle;\n",
       "    }\n",
       "\n",
       "    .dataframe tbody tr th {\n",
       "        vertical-align: top;\n",
       "    }\n",
       "\n",
       "    .dataframe thead th {\n",
       "        text-align: right;\n",
       "    }\n",
       "</style>\n",
       "<table border=\"1\" class=\"dataframe\">\n",
       "  <thead>\n",
       "    <tr style=\"text-align: right;\">\n",
       "      <th></th>\n",
       "      <th>loan_id</th>\n",
       "      <th>gender</th>\n",
       "      <th>married</th>\n",
       "      <th>dependents</th>\n",
       "      <th>education</th>\n",
       "      <th>self_employed</th>\n",
       "      <th>applicantincome</th>\n",
       "      <th>coapplicantincome</th>\n",
       "      <th>loanamount</th>\n",
       "      <th>loan_amount_term</th>\n",
       "      <th>credit_history</th>\n",
       "      <th>property_area</th>\n",
       "      <th>loan_status</th>\n",
       "      <th>type</th>\n",
       "    </tr>\n",
       "  </thead>\n",
       "  <tbody>\n",
       "    <tr>\n",
       "      <th>104</th>\n",
       "      <td>LP001357</td>\n",
       "      <td>Male</td>\n",
       "      <td>NaN</td>\n",
       "      <td>NaN</td>\n",
       "      <td>Graduate</td>\n",
       "      <td>No</td>\n",
       "      <td>3816</td>\n",
       "      <td>754.0</td>\n",
       "      <td>160.0</td>\n",
       "      <td>360.0</td>\n",
       "      <td>1.0</td>\n",
       "      <td>Urban</td>\n",
       "      <td>Y</td>\n",
       "      <td>train</td>\n",
       "    </tr>\n",
       "    <tr>\n",
       "      <th>228</th>\n",
       "      <td>LP001760</td>\n",
       "      <td>Male</td>\n",
       "      <td>NaN</td>\n",
       "      <td>NaN</td>\n",
       "      <td>Graduate</td>\n",
       "      <td>No</td>\n",
       "      <td>4758</td>\n",
       "      <td>0.0</td>\n",
       "      <td>158.0</td>\n",
       "      <td>480.0</td>\n",
       "      <td>1.0</td>\n",
       "      <td>Semiurban</td>\n",
       "      <td>Y</td>\n",
       "      <td>train</td>\n",
       "    </tr>\n",
       "    <tr>\n",
       "      <th>435</th>\n",
       "      <td>LP002393</td>\n",
       "      <td>Female</td>\n",
       "      <td>NaN</td>\n",
       "      <td>NaN</td>\n",
       "      <td>Graduate</td>\n",
       "      <td>No</td>\n",
       "      <td>10047</td>\n",
       "      <td>0.0</td>\n",
       "      <td>NaN</td>\n",
       "      <td>240.0</td>\n",
       "      <td>1.0</td>\n",
       "      <td>Semiurban</td>\n",
       "      <td>Y</td>\n",
       "      <td>train</td>\n",
       "    </tr>\n",
       "  </tbody>\n",
       "</table>\n",
       "</div>"
      ],
      "text/plain": [
       "      loan_id  gender married  dependents education self_employed  \\\n",
       "104  LP001357    Male     NaN         NaN  Graduate            No   \n",
       "228  LP001760    Male     NaN         NaN  Graduate            No   \n",
       "435  LP002393  Female     NaN         NaN  Graduate            No   \n",
       "\n",
       "     applicantincome  coapplicantincome  loanamount  loan_amount_term  \\\n",
       "104             3816              754.0       160.0             360.0   \n",
       "228             4758                0.0       158.0             480.0   \n",
       "435            10047                0.0         NaN             240.0   \n",
       "\n",
       "     credit_history property_area loan_status   type  \n",
       "104             1.0         Urban           Y  train  \n",
       "228             1.0     Semiurban           Y  train  \n",
       "435             1.0     Semiurban           Y  train  "
      ]
     },
     "execution_count": 117,
     "metadata": {},
     "output_type": "execute_result"
    }
   ],
   "source": [
    "comb[comb.married.isna()]"
   ]
  },
  {
   "cell_type": "code",
   "execution_count": 118,
   "metadata": {},
   "outputs": [
    {
     "data": {
      "text/plain": [
       "No     807\n",
       "Yes    119\n",
       "Name: self_employed, dtype: int64"
      ]
     },
     "execution_count": 118,
     "metadata": {},
     "output_type": "execute_result"
    }
   ],
   "source": [
    "comb.self_employed.value_counts()"
   ]
  },
  {
   "cell_type": "code",
   "execution_count": 119,
   "metadata": {},
   "outputs": [
    {
     "data": {
      "text/plain": [
       "(142.51153039832286, 126.0, 700.0, 9.0)"
      ]
     },
     "execution_count": 119,
     "metadata": {},
     "output_type": "execute_result"
    }
   ],
   "source": [
    "comb.loanamount.mean(), comb.loanamount.median(), comb.loanamount.max(), comb.loanamount.min()"
   ]
  },
  {
   "cell_type": "code",
   "execution_count": 120,
   "metadata": {},
   "outputs": [],
   "source": [
    "#Visualize missing values \n",
    "import missingno as msno\n",
    "import seaborn as sns"
   ]
  },
  {
   "cell_type": "code",
   "execution_count": 121,
   "metadata": {},
   "outputs": [
    {
     "data": {
      "text/plain": [
       "<matplotlib.axes._subplots.AxesSubplot at 0x1a1b987080>"
      ]
     },
     "execution_count": 121,
     "metadata": {},
     "output_type": "execute_result"
    },
    {
     "data": {
      "image/png": "[encoded data removed]",
      "text/plain": [
       "<Figure size 1800x720 with 2 Axes>"
      ]
     },
     "metadata": {
      "needs_background": "light"
     },
     "output_type": "display_data"
    },
    {
     "data": {
      "image/png": "[encoded data removed]",
      "text/plain": [
       "<Figure size 1440x864 with 2 Axes>"
      ]
     },
     "metadata": {
      "needs_background": "light"
     },
     "output_type": "display_data"
    }
   ],
   "source": [
    "msno.matrix(comb),\n",
    "msno.heatmap(comb)"
   ]
  },
  {
   "cell_type": "code",
   "execution_count": 122,
   "metadata": {},
   "outputs": [
    {
     "data": {
      "image/png": "[encoded data removed]",
      "text/plain": [
       "<Figure size 432x288 with 2 Axes>"
      ]
     },
     "metadata": {
      "needs_background": "light"
     },
     "output_type": "display_data"
    }
   ],
   "source": [
    "#corr plot\n",
    "corr = comb.corr()\n",
    "ax = sns.heatmap(\n",
    "    corr, \n",
    "    vmin=-1, vmax=1, center=0,\n",
    "    cmap=sns.diverging_palette(20, 220, n=200),\n",
    "    square=True\n",
    ")\n",
    "ax.set_xticklabels(\n",
    "    ax.get_xticklabels(),\n",
    "    rotation=45,\n",
    "    horizontalalignment='right'\n",
    ");"
   ]
  },
  {
   "cell_type": "code",
   "execution_count": 123,
   "metadata": {},
   "outputs": [
    {
     "name": "stderr",
     "output_type": "stream",
     "text": [
      "/Users/akailwoo/anaconda3/lib/python3.7/site-packages/scipy/stats/stats.py:1713: FutureWarning: Using a non-tuple sequence for multidimensional indexing is deprecated; use `arr[tuple(seq)]` instead of `arr[seq]`. In the future this will be interpreted as an array index, `arr[np.array(seq)]`, which will result either in an error or a different result.\n",
      "  return np.add.reduce(sorted[indexer] * weights, axis=axis) / sumval\n"
     ]
    },
    {
     "data": {
      "text/plain": [
       "<matplotlib.axes._subplots.AxesSubplot at 0x1a19fa3d30>"
      ]
     },
     "execution_count": 123,
     "metadata": {},
     "output_type": "execute_result"
    },
    {
     "data": {
      "image/png": "[encoded data removed]",
      "text/plain": [
       "<Figure size 432x288 with 1 Axes>"
      ]
     },
     "metadata": {
      "needs_background": "light"
     },
     "output_type": "display_data"
    }
   ],
   "source": [
    "sns.distplot(comb.loanamount.fillna(0))"
   ]
  },
  {
   "cell_type": "code",
   "execution_count": 124,
   "metadata": {},
   "outputs": [
    {
     "data": {
      "text/plain": [
       "<matplotlib.axes._subplots.AxesSubplot at 0x1a1b94fc88>"
      ]
     },
     "execution_count": 124,
     "metadata": {},
     "output_type": "execute_result"
    },
    {
     "data": {
      "image/png": "[encoded data removed]",
      "text/plain": [
       "<Figure size 432x288 with 1 Axes>"
      ]
     },
     "metadata": {
      "needs_background": "light"
     },
     "output_type": "display_data"
    }
   ],
   "source": [
    "sns.distplot(comb.loan_amount_term.fillna(0))"
   ]
  },
  {
   "cell_type": "code",
   "execution_count": 125,
   "metadata": {},
   "outputs": [
    {
     "data": {
      "text/plain": [
       "360.0    823\n",
       "180.0     66\n",
       "480.0     23\n",
       "300.0     20\n",
       "240.0      8\n",
       "84.0       7\n",
       "120.0      4\n",
       "36.0       3\n",
       "60.0       3\n",
       "12.0       2\n",
       "350.0      1\n",
       "6.0        1\n",
       "Name: loan_amount_term, dtype: int64"
      ]
     },
     "execution_count": 125,
     "metadata": {},
     "output_type": "execute_result"
    }
   ],
   "source": [
    "comb.loan_amount_term.value_counts()"
   ]
  },
  {
   "cell_type": "code",
   "execution_count": 126,
   "metadata": {},
   "outputs": [
    {
     "data": {
      "text/plain": [
       "1.0    754\n",
       "0.0    148\n",
       "Name: credit_history, dtype: int64"
      ]
     },
     "execution_count": 126,
     "metadata": {},
     "output_type": "execute_result"
    }
   ],
   "source": [
    "comb.credit_history.value_counts()"
   ]
  },
  {
   "cell_type": "code",
   "execution_count": 127,
   "metadata": {},
   "outputs": [],
   "source": [
    "#Imput missing data update \n",
    "comb1 = comb.copy()"
   ]
  },
  {
   "cell_type": "code",
   "execution_count": 128,
   "metadata": {},
   "outputs": [],
   "source": [
    "comb1.loc[comb1.gender.isna(), 'gender' ] = 'Male'"
   ]
  },
  {
   "cell_type": "code",
   "execution_count": 129,
   "metadata": {},
   "outputs": [],
   "source": [
    "comb1.loc[comb1.married.isna(), 'married' ] = 'Yes'"
   ]
  },
  {
   "cell_type": "code",
   "execution_count": 130,
   "metadata": {},
   "outputs": [],
   "source": [
    "comb1.loc[(comb1.dependents.isna())&(comb1.married == 'Yes'), 'dependents' ] = 1\n",
    "comb1.loc[(comb1.dependents.isna())&(comb1.married == 'No'), 'dependents' ] = 0"
   ]
  },
  {
   "cell_type": "code",
   "execution_count": 131,
   "metadata": {},
   "outputs": [],
   "source": [
    "comb1.loc[comb1.self_employed.isna(), 'self_employed' ] = 'No'"
   ]
  },
  {
   "cell_type": "code",
   "execution_count": 132,
   "metadata": {},
   "outputs": [],
   "source": [
    "comb1.loc[comb1.loanamount.isna(), 'loanamount' ] = 126\n",
    "comb1.loc[comb1.loan_amount_term.isna(), 'loan_amount_term' ] = 360\n",
    "comb1.loc[comb1.credit_history.isna(), 'credit_history' ] = 1"
   ]
  },
  {
   "cell_type": "code",
   "execution_count": 133,
   "metadata": {},
   "outputs": [
    {
     "data": {
      "text/plain": [
       "loan_id                0\n",
       "gender                 0\n",
       "married                0\n",
       "dependents             0\n",
       "education              0\n",
       "self_employed          0\n",
       "applicantincome        0\n",
       "coapplicantincome      0\n",
       "loanamount             0\n",
       "loan_amount_term       0\n",
       "credit_history         0\n",
       "property_area          0\n",
       "loan_status          367\n",
       "type                   0\n",
       "dtype: int64"
      ]
     },
     "execution_count": 133,
     "metadata": {},
     "output_type": "execute_result"
    }
   ],
   "source": [
    "comb1.isna().sum()"
   ]
  },
  {
   "cell_type": "code",
   "execution_count": 134,
   "metadata": {},
   "outputs": [],
   "source": [
    "comb1['loan_status'] = comb1.loan_status.map(dict(Y=1, N=0))"
   ]
  },
  {
   "cell_type": "code",
   "execution_count": 135,
   "metadata": {},
   "outputs": [],
   "source": [
    "#get dummies\n",
    "comb1 = pd.get_dummies(comb1, columns = ['gender', 'married', 'self_employed', 'education', 'property_area'])"
   ]
  },
  {
   "cell_type": "code",
   "execution_count": 136,
   "metadata": {},
   "outputs": [
    {
     "data": {
      "text/html": [
       "<div>\n",
       "<style scoped>\n",
       "    .dataframe tbody tr th:only-of-type {\n",
       "        vertical-align: middle;\n",
       "    }\n",
       "\n",
       "    .dataframe tbody tr th {\n",
       "        vertical-align: top;\n",
       "    }\n",
       "\n",
       "    .dataframe thead th {\n",
       "        text-align: right;\n",
       "    }\n",
       "</style>\n",
       "<table border=\"1\" class=\"dataframe\">\n",
       "  <thead>\n",
       "    <tr style=\"text-align: right;\">\n",
       "      <th></th>\n",
       "      <th>loan_id</th>\n",
       "      <th>dependents</th>\n",
       "      <th>applicantincome</th>\n",
       "      <th>coapplicantincome</th>\n",
       "      <th>loanamount</th>\n",
       "      <th>loan_amount_term</th>\n",
       "      <th>credit_history</th>\n",
       "      <th>loan_status</th>\n",
       "      <th>type</th>\n",
       "      <th>gender_Female</th>\n",
       "      <th>gender_Male</th>\n",
       "      <th>married_No</th>\n",
       "      <th>married_Yes</th>\n",
       "      <th>self_employed_No</th>\n",
       "      <th>self_employed_Yes</th>\n",
       "      <th>education_Graduate</th>\n",
       "      <th>education_Not Graduate</th>\n",
       "      <th>property_area_Rural</th>\n",
       "      <th>property_area_Semiurban</th>\n",
       "      <th>property_area_Urban</th>\n",
       "    </tr>\n",
       "  </thead>\n",
       "  <tbody>\n",
       "    <tr>\n",
       "      <th>0</th>\n",
       "      <td>LP001002</td>\n",
       "      <td>0.0</td>\n",
       "      <td>5849</td>\n",
       "      <td>0.0</td>\n",
       "      <td>126.0</td>\n",
       "      <td>360.0</td>\n",
       "      <td>1.0</td>\n",
       "      <td>1.0</td>\n",
       "      <td>train</td>\n",
       "      <td>0</td>\n",
       "      <td>1</td>\n",
       "      <td>1</td>\n",
       "      <td>0</td>\n",
       "      <td>1</td>\n",
       "      <td>0</td>\n",
       "      <td>1</td>\n",
       "      <td>0</td>\n",
       "      <td>0</td>\n",
       "      <td>0</td>\n",
       "      <td>1</td>\n",
       "    </tr>\n",
       "    <tr>\n",
       "      <th>1</th>\n",
       "      <td>LP001003</td>\n",
       "      <td>1.0</td>\n",
       "      <td>4583</td>\n",
       "      <td>1508.0</td>\n",
       "      <td>128.0</td>\n",
       "      <td>360.0</td>\n",
       "      <td>1.0</td>\n",
       "      <td>0.0</td>\n",
       "      <td>train</td>\n",
       "      <td>0</td>\n",
       "      <td>1</td>\n",
       "      <td>0</td>\n",
       "      <td>1</td>\n",
       "      <td>1</td>\n",
       "      <td>0</td>\n",
       "      <td>1</td>\n",
       "      <td>0</td>\n",
       "      <td>1</td>\n",
       "      <td>0</td>\n",
       "      <td>0</td>\n",
       "    </tr>\n",
       "    <tr>\n",
       "      <th>2</th>\n",
       "      <td>LP001005</td>\n",
       "      <td>0.0</td>\n",
       "      <td>3000</td>\n",
       "      <td>0.0</td>\n",
       "      <td>66.0</td>\n",
       "      <td>360.0</td>\n",
       "      <td>1.0</td>\n",
       "      <td>1.0</td>\n",
       "      <td>train</td>\n",
       "      <td>0</td>\n",
       "      <td>1</td>\n",
       "      <td>0</td>\n",
       "      <td>1</td>\n",
       "      <td>0</td>\n",
       "      <td>1</td>\n",
       "      <td>1</td>\n",
       "      <td>0</td>\n",
       "      <td>0</td>\n",
       "      <td>0</td>\n",
       "      <td>1</td>\n",
       "    </tr>\n",
       "    <tr>\n",
       "      <th>3</th>\n",
       "      <td>LP001006</td>\n",
       "      <td>0.0</td>\n",
       "      <td>2583</td>\n",
       "      <td>2358.0</td>\n",
       "      <td>120.0</td>\n",
       "      <td>360.0</td>\n",
       "      <td>1.0</td>\n",
       "      <td>1.0</td>\n",
       "      <td>train</td>\n",
       "      <td>0</td>\n",
       "      <td>1</td>\n",
       "      <td>0</td>\n",
       "      <td>1</td>\n",
       "      <td>1</td>\n",
       "      <td>0</td>\n",
       "      <td>0</td>\n",
       "      <td>1</td>\n",
       "      <td>0</td>\n",
       "      <td>0</td>\n",
       "      <td>1</td>\n",
       "    </tr>\n",
       "    <tr>\n",
       "      <th>4</th>\n",
       "      <td>LP001008</td>\n",
       "      <td>0.0</td>\n",
       "      <td>6000</td>\n",
       "      <td>0.0</td>\n",
       "      <td>141.0</td>\n",
       "      <td>360.0</td>\n",
       "      <td>1.0</td>\n",
       "      <td>1.0</td>\n",
       "      <td>train</td>\n",
       "      <td>0</td>\n",
       "      <td>1</td>\n",
       "      <td>1</td>\n",
       "      <td>0</td>\n",
       "      <td>1</td>\n",
       "      <td>0</td>\n",
       "      <td>1</td>\n",
       "      <td>0</td>\n",
       "      <td>0</td>\n",
       "      <td>0</td>\n",
       "      <td>1</td>\n",
       "    </tr>\n",
       "  </tbody>\n",
       "</table>\n",
       "</div>"
      ],
      "text/plain": [
       "    loan_id  dependents  applicantincome  coapplicantincome  loanamount  \\\n",
       "0  LP001002         0.0             5849                0.0       126.0   \n",
       "1  LP001003         1.0             4583             1508.0       128.0   \n",
       "2  LP001005         0.0             3000                0.0        66.0   \n",
       "3  LP001006         0.0             2583             2358.0       120.0   \n",
       "4  LP001008         0.0             6000                0.0       141.0   \n",
       "\n",
       "   loan_amount_term  credit_history  loan_status   type  gender_Female  \\\n",
       "0             360.0             1.0          1.0  train              0   \n",
       "1             360.0             1.0          0.0  train              0   \n",
       "2             360.0             1.0          1.0  train              0   \n",
       "3             360.0             1.0          1.0  train              0   \n",
       "4             360.0             1.0          1.0  train              0   \n",
       "\n",
       "   gender_Male  married_No  married_Yes  self_employed_No  self_employed_Yes  \\\n",
       "0            1           1            0                 1                  0   \n",
       "1            1           0            1                 1                  0   \n",
       "2            1           0            1                 0                  1   \n",
       "3            1           0            1                 1                  0   \n",
       "4            1           1            0                 1                  0   \n",
       "\n",
       "   education_Graduate  education_Not Graduate  property_area_Rural  \\\n",
       "0                   1                       0                    0   \n",
       "1                   1                       0                    1   \n",
       "2                   1                       0                    0   \n",
       "3                   0                       1                    0   \n",
       "4                   1                       0                    0   \n",
       "\n",
       "   property_area_Semiurban  property_area_Urban  \n",
       "0                        0                    1  \n",
       "1                        0                    0  \n",
       "2                        0                    1  \n",
       "3                        0                    1  \n",
       "4                        0                    1  "
      ]
     },
     "execution_count": 136,
     "metadata": {},
     "output_type": "execute_result"
    }
   ],
   "source": [
    "comb1.head()"
   ]
  },
  {
   "cell_type": "markdown",
   "metadata": {},
   "source": [
    "## modelling"
   ]
  },
  {
   "cell_type": "code",
   "execution_count": 147,
   "metadata": {},
   "outputs": [
    {
     "name": "stderr",
     "output_type": "stream",
     "text": [
      "/Users/akailwoo/anaconda3/lib/python3.7/site-packages/pandas/core/frame.py:3697: SettingWithCopyWarning: \n",
      "A value is trying to be set on a copy of a slice from a DataFrame\n",
      "\n",
      "See the caveats in the documentation: http://pandas.pydata.org/pandas-docs/stable/indexing.html#indexing-view-versus-copy\n",
      "  errors=errors)\n"
     ]
    }
   ],
   "source": [
    "x_train = comb1[comb1.type == 'train']\n",
    "y_train = x_train['loan_status']\n",
    "x_train.drop(['loan_id', 'loan_status','type'],axis=1,inplace=True)\n",
    "\n",
    "x_test = comb1[comb1.type == 'test']\n",
    "x_test.drop(['loan_id', 'loan_status','type'],axis=1,inplace=True)"
   ]
  },
  {
   "cell_type": "code",
   "execution_count": 197,
   "metadata": {},
   "outputs": [
    {
     "name": "stderr",
     "output_type": "stream",
     "text": [
      "/Users/akailwoo/anaconda3/lib/python3.7/site-packages/pandas/core/frame.py:3697: SettingWithCopyWarning: \n",
      "A value is trying to be set on a copy of a slice from a DataFrame\n",
      "\n",
      "See the caveats in the documentation: http://pandas.pydata.org/pandas-docs/stable/indexing.html#indexing-view-versus-copy\n",
      "  errors=errors)\n"
     ]
    }
   ],
   "source": [
    "x_train = comb1[comb1.type == 'train']\n",
    "x_train.drop(['loan_id','type'],axis=1,inplace=True)\n",
    "\n",
    "x_test = comb1[comb1.type == 'test']\n",
    "x_test.drop(['loan_id','type'],axis=1,inplace=True)"
   ]
  },
  {
   "cell_type": "code",
   "execution_count": 356,
   "metadata": {},
   "outputs": [
    {
     "data": {
      "text/plain": [
       "((614, 18), (367, 18), (614,), 422.0)"
      ]
     },
     "execution_count": 356,
     "metadata": {},
     "output_type": "execute_result"
    }
   ],
   "source": [
    "x_train.shape, x_test.shape, y_train.shape, y_train.sum()"
   ]
  },
  {
   "cell_type": "code",
   "execution_count": 201,
   "metadata": {},
   "outputs": [],
   "source": [
    "#from sklearn.linear_model import LogisticRegression\n",
    "from sklearn import metrics\n",
    "from sklearn.metrics import confusion_matrix, classification_report\n",
    "from sklearn.model_selection import GridSearchCV\n",
    "#from sklearn.ensemble import RandomForestClassifier\n",
    "from xgboost import XGBClassifier\n",
    "import xgboost as xgb\n",
    "from sklearn.model_selection import RandomizedSearchCV\n",
    "#from datetime import datetime\n",
    "#from sklearn.svm import SVC\n",
    "#from sklearn.utils.class_weight import compute_sample_weight\n",
    "#import scikitplot as skplt\n",
    "from sklearn.model_selection import StratifiedKFold"
   ]
  },
  {
   "cell_type": "code",
   "execution_count": 286,
   "metadata": {},
   "outputs": [],
   "source": [
    "target = 'loan_status'"
   ]
  },
  {
   "cell_type": "code",
   "execution_count": 341,
   "metadata": {},
   "outputs": [],
   "source": [
    "def modelfit(alg, dtrain, predictors,useTrainCV=True, cv_folds=5, early_stopping_rounds=50):\n",
    "    \n",
    "    if useTrainCV:\n",
    "        xgb_param = alg.get_xgb_params()\n",
    "        xgtrain = xgb.DMatrix(dtrain[predictors].values, label=dtrain['loan_status'].values)\n",
    "        cvresult = xgb.cv(xgb_param, xgtrain, num_boost_round=alg.get_params()['n_estimators'], nfold=cv_folds,\n",
    "            metrics='auc', early_stopping_rounds=early_stopping_rounds, verbose_eval = 5, seed = 0)\n",
    "        alg.set_params(n_estimators=cvresult.shape[0])\n",
    "    \n",
    "    #Fit the algorithm on the data\n",
    "    alg.fit(dtrain[predictors], dtrain['loan_status'],eval_metric='auc')\n",
    "        \n",
    "    #Predict training set:\n",
    "    dtrain_predictions = alg.predict(dtrain[predictors])\n",
    "    dtrain_predprob = alg.predict_proba(dtrain[predictors])[:,1]\n",
    "        \n",
    "    #Print model report:\n",
    "    print(\"\\nModel Report\")\n",
    "    print(\"Accuracy : %.10g\" % metrics.accuracy_score(dtrain['loan_status'].values, dtrain_predictions))\n",
    "    print(\"AUC Score (Train): %f\" % metrics.roc_auc_score(dtrain['loan_status'], dtrain_predprob))\n",
    "                    \n",
    "    feat_imp = pd.DataFrame([xgb1.feature_importances_], columns = x_train.drop(['loan_status'], axis = 1).columns).transpose()\n",
    "    feat_imp.columns = ['feature_importance']\n",
    "    feat_impt = feat_imp.sort_values(by = 'feature_importance', axis = 0, ascending = False, inplace = True)\n",
    "\n",
    "    feat_imp.plot(kind='bar', title='Feature Importances')\n",
    "    plt.ylabel('Feature Importance Score')\n",
    "    plt.xlabel('')"
   ]
  },
  {
   "cell_type": "code",
   "execution_count": 368,
   "metadata": {},
   "outputs": [],
   "source": [
    "def output(y_pred, map_data):\n",
    "    data = pd.concat([map_data['loan_id'][map_data['type']=='test'].reset_index(drop = True), pd.Series(y_pred)], axis = 1)\n",
    "    data.columns = ['Loan_ID', 'Loan_Status']\n",
    "    data.Loan_Status = data.Loan_Status.map({1: 'Y', 0: 'N'})\n",
    "    return data"
   ]
  },
  {
   "cell_type": "code",
   "execution_count": 348,
   "metadata": {},
   "outputs": [
    {
     "data": {
      "text/plain": [
       "0.8827361563517915"
      ]
     },
     "execution_count": 348,
     "metadata": {},
     "output_type": "execute_result"
    }
   ],
   "source": [
    "xgb1.score(x_train[predictors],x_train['loan_status'])"
   ]
  },
  {
   "cell_type": "code",
   "execution_count": 342,
   "metadata": {},
   "outputs": [
    {
     "name": "stdout",
     "output_type": "stream",
     "text": [
      "[0]\ttrain-auc:0.72144+0.0685194\ttest-auc:0.671583+0.119104\n",
      "[5]\ttrain-auc:0.833682+0.0125135\ttest-auc:0.73541+0.0451363\n",
      "[10]\ttrain-auc:0.850328+0.00868889\ttest-auc:0.72518+0.0416922\n",
      "[15]\ttrain-auc:0.862548+0.00897827\ttest-auc:0.736471+0.0380688\n",
      "[20]\ttrain-auc:0.871007+0.00349292\ttest-auc:0.738838+0.0524821\n",
      "[25]\ttrain-auc:0.883719+0.00441795\ttest-auc:0.742504+0.0401696\n",
      "[30]\ttrain-auc:0.889502+0.00353885\ttest-auc:0.734861+0.0398941\n",
      "[35]\ttrain-auc:0.897161+0.00390208\ttest-auc:0.736196+0.0429933\n",
      "[40]\ttrain-auc:0.906007+0.00232408\ttest-auc:0.74165+0.0387026\n",
      "[45]\ttrain-auc:0.91029+0.00370956\ttest-auc:0.744005+0.0345874\n",
      "[50]\ttrain-auc:0.915957+0.00368624\ttest-auc:0.745355+0.0332712\n",
      "[55]\ttrain-auc:0.922615+0.00520531\ttest-auc:0.747778+0.0346234\n",
      "[60]\ttrain-auc:0.928611+0.00452785\ttest-auc:0.744566+0.0326966\n",
      "[65]\ttrain-auc:0.933232+0.00575639\ttest-auc:0.750107+0.0286754\n",
      "[70]\ttrain-auc:0.937733+0.00436637\ttest-auc:0.751761+0.0257662\n",
      "[75]\ttrain-auc:0.942888+0.00552607\ttest-auc:0.751928+0.029278\n",
      "[80]\ttrain-auc:0.946012+0.00507724\ttest-auc:0.752256+0.031786\n",
      "[85]\ttrain-auc:0.950684+0.00387683\ttest-auc:0.754339+0.0286339\n",
      "[90]\ttrain-auc:0.954294+0.00330834\ttest-auc:0.75537+0.0256415\n",
      "[95]\ttrain-auc:0.956618+0.00264654\ttest-auc:0.754588+0.0301987\n",
      "[100]\ttrain-auc:0.959141+0.00226949\ttest-auc:0.756644+0.0279831\n",
      "[105]\ttrain-auc:0.961167+0.00167096\ttest-auc:0.75883+0.0279045\n",
      "[110]\ttrain-auc:0.963228+0.00196336\ttest-auc:0.758122+0.0279112\n",
      "[115]\ttrain-auc:0.965492+0.00186883\ttest-auc:0.758164+0.0293377\n",
      "[120]\ttrain-auc:0.967493+0.00142756\ttest-auc:0.757549+0.0289182\n",
      "[125]\ttrain-auc:0.969889+0.00134821\ttest-auc:0.758806+0.0270335\n",
      "[130]\ttrain-auc:0.971394+0.0009073\ttest-auc:0.758869+0.0264746\n",
      "[135]\ttrain-auc:0.973089+0.000694954\ttest-auc:0.760432+0.0263358\n",
      "[140]\ttrain-auc:0.975504+0.000710069\ttest-auc:0.761486+0.0266421\n",
      "[145]\ttrain-auc:0.976752+0.000431286\ttest-auc:0.76252+0.0250488\n",
      "[150]\ttrain-auc:0.977987+0.00100764\ttest-auc:0.760754+0.0236595\n",
      "[155]\ttrain-auc:0.979255+0.00117932\ttest-auc:0.76047+0.0241614\n",
      "[160]\ttrain-auc:0.979946+0.0016132\ttest-auc:0.760666+0.0243236\n",
      "[165]\ttrain-auc:0.981234+0.00115002\ttest-auc:0.75946+0.0234333\n",
      "[170]\ttrain-auc:0.982116+0.00144466\ttest-auc:0.760357+0.0245812\n",
      "[175]\ttrain-auc:0.982828+0.00156721\ttest-auc:0.759842+0.0278335\n",
      "[180]\ttrain-auc:0.983649+0.00135782\ttest-auc:0.758113+0.0288799\n",
      "[185]\ttrain-auc:0.984561+0.00164218\ttest-auc:0.759052+0.0305936\n",
      "[190]\ttrain-auc:0.985235+0.00138685\ttest-auc:0.759574+0.0299973\n",
      "[195]\ttrain-auc:0.985759+0.00143717\ttest-auc:0.760564+0.0303608\n",
      "\n",
      "Model Report\n",
      "Accuracy : 0.8827361564\n",
      "AUC Score (Train): 0.966294\n"
     ]
    },
    {
     "data": {
      "image/png": "[encoded data removed]",
      "text/plain": [
       "<Figure size 432x288 with 1 Axes>"
      ]
     },
     "metadata": {
      "needs_background": "light"
     },
     "output_type": "display_data"
    }
   ],
   "source": [
    "#Choose all predictors except target\n",
    "predictors = [x for x in x_train.columns if x not in ['loan_status']]\n",
    "xgb1 = XGBClassifier(\n",
    " learning_rate =0.1,\n",
    " n_estimators=1000,\n",
    " max_depth=3,\n",
    " min_child_weight=1,\n",
    " gamma=0,\n",
    " subsample=0.8,\n",
    " colsample_bytree=0.8,\n",
    " objective= 'binary:logistic',\n",
    " nthread=-1,\n",
    " scale_pos_weight=1,\n",
    " seed=0, \n",
    " silent = True)\n",
    "modelfit(xgb1, x_train, predictors)"
   ]
  },
  {
   "cell_type": "code",
   "execution_count": 377,
   "metadata": {},
   "outputs": [],
   "source": [
    "df = output(xgb1.predict(x_test[predictors]), comb1 )\n",
    "df.to_csv('20190908_xgb_base_v1.csv',index=False)\n",
    "#AUC = 0.777"
   ]
  },
  {
   "cell_type": "code",
   "execution_count": 379,
   "metadata": {},
   "outputs": [
    {
     "name": "stdout",
     "output_type": "stream",
     "text": [
      "Fitting 5 folds for each of 15 candidates, totalling 75 fits\n"
     ]
    },
    {
     "name": "stderr",
     "output_type": "stream",
     "text": [
      "[Parallel(n_jobs=-1)]: Using backend LokyBackend with 4 concurrent workers.\n",
      "[Parallel(n_jobs=-1)]: Done  68 out of  75 | elapsed:    5.5s remaining:    0.6s\n",
      "[Parallel(n_jobs=-1)]: Done  75 out of  75 | elapsed:    6.1s finished\n"
     ]
    },
    {
     "data": {
      "text/plain": [
       "({'max_depth': 7, 'min_child_weight': 5}, 0.7644280615093233)"
      ]
     },
     "execution_count": 379,
     "metadata": {},
     "output_type": "execute_result"
    }
   ],
   "source": [
    "#tune max_depth & min_child_weight first\n",
    "#set n_estimators = 100\n",
    "\n",
    "param_1 = {\n",
    " 'max_depth':range(1,10,2),\n",
    " 'min_child_weight':range(1,6,2)\n",
    " #'max_depth':[3],\n",
    " #'min_child_weight':[1]\n",
    " }\n",
    "gsearch1 = GridSearchCV(estimator = XGBClassifier( learning_rate =0.1, n_estimators=200, max_depth=3,\n",
    " min_child_weight=1, gamma=0, subsample=0.8, colsample_bytree=0.8,\n",
    " objective= 'binary:logistic', nthread=-1, scale_pos_weight=1, seed=0), \n",
    " param_grid = param_1, scoring='roc_auc',n_jobs=-1,verbose = True, cv=5)\n",
    "gsearch1.fit(x_train[predictors],x_train[target])\n",
    "gsearch1.best_params_, gsearch1.best_score_"
   ]
  },
  {
   "cell_type": "code",
   "execution_count": null,
   "metadata": {},
   "outputs": [],
   "source": [
    "#Fix max_depth = 7, and min_child_weight =5"
   ]
  },
  {
   "cell_type": "code",
   "execution_count": 380,
   "metadata": {},
   "outputs": [
    {
     "name": "stdout",
     "output_type": "stream",
     "text": [
      "Fitting 5 folds for each of 5 candidates, totalling 25 fits\n"
     ]
    },
    {
     "name": "stderr",
     "output_type": "stream",
     "text": [
      "[Parallel(n_jobs=-1)]: Using backend LokyBackend with 4 concurrent workers.\n",
      "[Parallel(n_jobs=-1)]: Done  25 out of  25 | elapsed:    2.5s finished\n"
     ]
    },
    {
     "data": {
      "text/plain": [
       "({'gamma': 0.3}, 0.7801302931596091)"
      ]
     },
     "execution_count": 380,
     "metadata": {},
     "output_type": "execute_result"
    }
   ],
   "source": [
    "#tune gamma\n",
    "\n",
    "param_2 = {\n",
    "'gamma':[i/10.0 for i in range(0,5)]\n",
    " }\n",
    "gsearch2 = GridSearchCV(estimator = XGBClassifier( learning_rate =0.1, n_estimators=200, max_depth=7,\n",
    " min_child_weight=5, gamma=1, subsample=0.8, colsample_bytree=0.8,\n",
    " objective= 'binary:logistic', nthread=-1, scale_pos_weight=1, seed=0), \n",
    " param_grid = param_2, scoring='accuracy',n_jobs=-1,verbose = True, cv=5)\n",
    "gsearch2.fit(x_train[predictors],x_train[target])\n",
    "gsearch2.best_params_, gsearch2.best_score_"
   ]
  },
  {
   "cell_type": "code",
   "execution_count": null,
   "metadata": {},
   "outputs": [],
   "source": [
    "#GAMMA = 0.3 is the best score"
   ]
  },
  {
   "cell_type": "code",
   "execution_count": 381,
   "metadata": {},
   "outputs": [
    {
     "name": "stdout",
     "output_type": "stream",
     "text": [
      "[0]\ttrain-auc:0.740617+0.0487083\ttest-auc:0.684398+0.0930728\n",
      "[5]\ttrain-auc:0.865279+0.00653907\ttest-auc:0.750498+0.0369381\n",
      "[10]\ttrain-auc:0.885676+0.00463902\ttest-auc:0.756919+0.0320509\n",
      "[15]\ttrain-auc:0.900996+0.00457761\ttest-auc:0.758882+0.0259412\n",
      "[20]\ttrain-auc:0.909065+0.00376246\ttest-auc:0.766373+0.0292618\n",
      "[25]\ttrain-auc:0.916213+0.0044767\ttest-auc:0.765378+0.028964\n",
      "[30]\ttrain-auc:0.921169+0.0038723\ttest-auc:0.765293+0.0263711\n",
      "[35]\ttrain-auc:0.926549+0.00318158\ttest-auc:0.763252+0.0283412\n",
      "[40]\ttrain-auc:0.931316+0.00399928\ttest-auc:0.761998+0.0231714\n",
      "[45]\ttrain-auc:0.93378+0.00455695\ttest-auc:0.758754+0.0226849\n",
      "[50]\ttrain-auc:0.936565+0.00420384\ttest-auc:0.756359+0.0232195\n",
      "[55]\ttrain-auc:0.939328+0.00509638\ttest-auc:0.755054+0.0208394\n",
      "[60]\ttrain-auc:0.943235+0.00440191\ttest-auc:0.757262+0.0208269\n",
      "[65]\ttrain-auc:0.945868+0.00353816\ttest-auc:0.759056+0.021849\n",
      "[70]\ttrain-auc:0.948096+0.00380969\ttest-auc:0.759251+0.0229242\n",
      "[75]\ttrain-auc:0.950717+0.00309129\ttest-auc:0.760853+0.0204737\n",
      "\n",
      "Model Report\n",
      "Accuracy : 0.8175895765\n",
      "AUC Score (Train): 0.921313\n"
     ]
    },
    {
     "data": {
      "image/png": "[encoded data removed]",
      "text/plain": [
       "<Figure size 432x288 with 1 Axes>"
      ]
     },
     "metadata": {
      "needs_background": "light"
     },
     "output_type": "display_data"
    }
   ],
   "source": [
    "#rechecking the model with new parameters now\n",
    "#Choose all predictors except target\n",
    "predictors = [x for x in x_train.columns if x not in ['loan_status']]\n",
    "xgb2 = XGBClassifier(\n",
    " learning_rate =0.1,\n",
    " n_estimators=200,\n",
    " max_depth=7,\n",
    " min_child_weight=5,\n",
    " gamma=0.3,\n",
    " subsample=0.8,\n",
    " colsample_bytree=0.8,\n",
    " objective= 'binary:logistic',\n",
    " nthread=-1,\n",
    " scale_pos_weight=1,\n",
    " seed=0, \n",
    " silent = True)\n",
    "modelfit(xgb2, x_train, predictors)"
   ]
  },
  {
   "cell_type": "code",
   "execution_count": 382,
   "metadata": {},
   "outputs": [],
   "source": [
    "df1 = output(xgb2.predict(x_test[predictors]), comb1 )\n",
    "df1.to_csv('20190908_xgb_wip_v2.csv',index=False)\n",
    "#AUC = 0.7847222"
   ]
  },
  {
   "cell_type": "code",
   "execution_count": 384,
   "metadata": {},
   "outputs": [
    {
     "name": "stdout",
     "output_type": "stream",
     "text": [
      "Fitting 5 folds for each of 16 candidates, totalling 80 fits\n"
     ]
    },
    {
     "name": "stderr",
     "output_type": "stream",
     "text": [
      "[Parallel(n_jobs=-1)]: Using backend LokyBackend with 4 concurrent workers.\n",
      "[Parallel(n_jobs=-1)]: Done  42 tasks      | elapsed:    3.6s\n",
      "[Parallel(n_jobs=-1)]: Done  80 out of  80 | elapsed:    6.8s finished\n"
     ]
    },
    {
     "data": {
      "text/plain": [
       "({'colsample_bytree': 0.9, 'subsample': 0.9}, 0.7817589576547231)"
      ]
     },
     "execution_count": 384,
     "metadata": {},
     "output_type": "execute_result"
    }
   ],
   "source": [
    "#tune subsample and colsample_bytree\n",
    "\n",
    "#set gamma = 0.3\n",
    "\n",
    "param_3 = {\n",
    " 'subsample':[i/10.0 for i in range(6,10)],\n",
    " 'colsample_bytree':[i/10.0 for i in range(6,10)]\n",
    " }\n",
    "gsearch3 = GridSearchCV(estimator = XGBClassifier( learning_rate =0.1, n_estimators=200, max_depth=7,\n",
    " min_child_weight=5, gamma=0.3, subsample=0.8, colsample_bytree=0.8,\n",
    " objective= 'binary:logistic', nthread=-1, scale_pos_weight=1, seed=0), \n",
    " param_grid = param_3, scoring='accuracy',n_jobs=-1,verbose = True, cv=5)\n",
    "gsearch3.fit(x_train[predictors],x_train[target])\n",
    "gsearch3.best_params_, gsearch3.best_score_"
   ]
  },
  {
   "cell_type": "code",
   "execution_count": 385,
   "metadata": {},
   "outputs": [
    {
     "name": "stdout",
     "output_type": "stream",
     "text": [
      "Fitting 5 folds for each of 4 candidates, totalling 20 fits\n"
     ]
    },
    {
     "name": "stderr",
     "output_type": "stream",
     "text": [
      "[Parallel(n_jobs=-1)]: Using backend LokyBackend with 4 concurrent workers.\n",
      "[Parallel(n_jobs=-1)]: Done  20 out of  20 | elapsed:    2.0s finished\n"
     ]
    },
    {
     "data": {
      "text/plain": [
       "({'colsample_bytree': 0.9, 'subsample': 0.85}, 0.7931596091205212)"
      ]
     },
     "execution_count": 385,
     "metadata": {},
     "output_type": "execute_result"
    }
   ],
   "source": [
    "#0.9 are the best values. again run but at 0.5 interval\n",
    "\n",
    "param_4 = {\n",
    " 'subsample':[i/100.0 for i in range(85,95,5)],\n",
    " 'colsample_bytree':[i/100.0 for i in range(85,95,5)]\n",
    " }\n",
    "gsearch4 = GridSearchCV(estimator = XGBClassifier( learning_rate =0.1, n_estimators=200, max_depth=7,\n",
    " min_child_weight=5, gamma=0.3, subsample=0.8, colsample_bytree=0.8,\n",
    " objective= 'binary:logistic', nthread=-1, scale_pos_weight=1, seed=0), \n",
    " param_grid = param_4, scoring='accuracy',n_jobs=-1,verbose = True, cv=5)\n",
    "gsearch4.fit(x_train[predictors],x_train[target])\n",
    "gsearch4.best_params_, gsearch4.best_score_"
   ]
  },
  {
   "cell_type": "code",
   "execution_count": null,
   "metadata": {},
   "outputs": [],
   "source": [
    "#best values are \n",
    "#subsample: 0.85\n",
    "#colsample_bytree: 0.9"
   ]
  },
  {
   "cell_type": "code",
   "execution_count": 435,
   "metadata": {},
   "outputs": [
    {
     "name": "stdout",
     "output_type": "stream",
     "text": [
      "Fitting 5 folds for each of 8 candidates, totalling 40 fits\n"
     ]
    },
    {
     "name": "stderr",
     "output_type": "stream",
     "text": [
      "[Parallel(n_jobs=-1)]: Using backend LokyBackend with 4 concurrent workers.\n",
      "[Parallel(n_jobs=-1)]: Done  40 out of  40 | elapsed:    3.3s finished\n"
     ]
    },
    {
     "data": {
      "text/plain": [
       "({'reg_alpha': 10}, 0.8094462540716613)"
      ]
     },
     "execution_count": 435,
     "metadata": {},
     "output_type": "execute_result"
    }
   ],
   "source": [
    "#Tuning Regularization parameters now\n",
    "\n",
    "param_5 = {\n",
    " 'reg_alpha':[1e-5, 1e-2, 0,0.1, 1, 10, 100, 200]\n",
    " }\n",
    "\n",
    "gsearch5 = GridSearchCV(estimator = XGBClassifier( learning_rate =0.1, n_estimators=200, max_depth=7,\n",
    " min_child_weight=5, gamma=0.3, subsample=0.85, colsample_bytree=0.9,\n",
    " objective= 'binary:logistic', nthread=-1, scale_pos_weight=1, seed=0), \n",
    " param_grid = param_5, scoring='accuracy',n_jobs=-1,verbose = True, cv=5)\n",
    "gsearch5.fit(x_train[predictors],x_train[target])\n",
    "gsearch5.best_params_, gsearch5.best_score_"
   ]
  },
  {
   "cell_type": "code",
   "execution_count": 449,
   "metadata": {},
   "outputs": [
    {
     "name": "stdout",
     "output_type": "stream",
     "text": [
      "Fitting 5 folds for each of 5 candidates, totalling 25 fits\n"
     ]
    },
    {
     "name": "stderr",
     "output_type": "stream",
     "text": [
      "[Parallel(n_jobs=-1)]: Using backend LokyBackend with 4 concurrent workers.\n",
      "[Parallel(n_jobs=-1)]: Done  25 out of  25 | elapsed:    2.1s finished\n",
      "/Users/akailwoo/anaconda3/lib/python3.7/site-packages/sklearn/model_selection/_search.py:841: DeprecationWarning: The default of the `iid` parameter will change from True to False in version 0.22 and will be removed in 0.24. This will change numeric results when test-set sizes are unequal.\n",
      "  DeprecationWarning)\n"
     ]
    },
    {
     "data": {
      "text/plain": [
       "({'reg_alpha': 10}, 0.8094462540716613)"
      ]
     },
     "execution_count": 449,
     "metadata": {},
     "output_type": "execute_result"
    }
   ],
   "source": [
    "#Try closer values now\n",
    "\n",
    "param_6 = {\n",
    " 'reg_alpha':[0,1, 10, 20, 50]\n",
    " }\n",
    "\n",
    "gsearch6 = GridSearchCV(estimator = XGBClassifier( learning_rate =0.1, n_estimators=200, max_depth=7,\n",
    " min_child_weight=5, gamma=0.3, subsample=0.85, colsample_bytree=0.9,\n",
    " objective= 'binary:logistic', nthread=-1, scale_pos_weight=1, seed=0), \n",
    " param_grid = param_6, scoring='accuracy',n_jobs=-1,verbose = True, cv=5, return_train_score =True)\n",
    "gsearch6.fit(x_train[predictors],x_train[target])\n",
    "gsearch6.best_params_, gsearch6.best_score_"
   ]
  },
  {
   "cell_type": "code",
   "execution_count": 450,
   "metadata": {},
   "outputs": [
    {
     "data": {
      "text/plain": [
       "{'mean_fit_time': array([0.42423859, 0.39310999, 0.25361524, 0.20834503, 0.24312286]),\n",
       " 'std_fit_time': array([0.03035709, 0.0547825 , 0.01542803, 0.00425417, 0.0312637 ]),\n",
       " 'mean_score_time': array([0.00381527, 0.00425382, 0.0024538 , 0.0067914 , 0.00213079]),\n",
       " 'std_score_time': array([1.04247618e-04, 6.69812554e-04, 7.84838329e-05, 9.09237140e-03,\n",
       "        3.85444627e-04]),\n",
       " 'param_reg_alpha': masked_array(data=[0, 1, 10, 20, 50],\n",
       "              mask=[False, False, False, False, False],\n",
       "        fill_value='?',\n",
       "             dtype=object),\n",
       " 'params': [{'reg_alpha': 0},\n",
       "  {'reg_alpha': 1},\n",
       "  {'reg_alpha': 10},\n",
       "  {'reg_alpha': 20},\n",
       "  {'reg_alpha': 50}],\n",
       " 'split0_test_score': array([0.78225806, 0.78225806, 0.81451613, 0.81451613, 0.81451613]),\n",
       " 'split1_test_score': array([0.75806452, 0.75806452, 0.76612903, 0.76612903, 0.76612903]),\n",
       " 'split2_test_score': array([0.80327869, 0.77868852, 0.78688525, 0.78688525, 0.68852459]),\n",
       " 'split3_test_score': array([0.85245902, 0.83606557, 0.86065574, 0.86065574, 0.68852459]),\n",
       " 'split4_test_score': array([0.7704918 , 0.76229508, 0.81967213, 0.81967213, 0.68852459]),\n",
       " 'mean_test_score': array([0.79315961, 0.78338762, 0.80944625, 0.80944625, 0.72964169]),\n",
       " 'std_test_score': array([0.03307394, 0.02781955, 0.03204862, 0.03204862, 0.05226319]),\n",
       " 'rank_test_score': array([3, 4, 1, 1, 5], dtype=int32),\n",
       " 'split0_train_score': array([0.93877551, 0.8877551 , 0.80816327, 0.80816327, 0.80816327]),\n",
       " 'split1_train_score': array([0.9244898 , 0.89795918, 0.82040816, 0.82040816, 0.82040816]),\n",
       " 'split2_train_score': array([0.92479675, 0.89430894, 0.81707317, 0.81504065, 0.68699187]),\n",
       " 'split3_train_score': array([0.92886179, 0.9004065 , 0.79674797, 0.79674797, 0.68699187]),\n",
       " 'split4_train_score': array([0.92886179, 0.89634146, 0.80691057, 0.80691057, 0.68699187]),\n",
       " 'mean_train_score': array([0.92915713, 0.89535424, 0.80986063, 0.80945412, 0.73790941]),\n",
       " 'std_train_score': array([0.00516691, 0.00429244, 0.00832823, 0.00800978, 0.06248109])}"
      ]
     },
     "execution_count": 450,
     "metadata": {},
     "output_type": "execute_result"
    }
   ],
   "source": [
    " gsearch6.cv_results_"
   ]
  },
  {
   "cell_type": "code",
   "execution_count": 451,
   "metadata": {},
   "outputs": [
    {
     "name": "stdout",
     "output_type": "stream",
     "text": [
      "[0]\ttrain-auc:0.668683+0.0846043\ttest-auc:0.656622+0.0856491\n",
      "[5]\ttrain-auc:0.768393+0.0115908\ttest-auc:0.701379+0.0297256\n",
      "[10]\ttrain-auc:0.785582+0.00780802\ttest-auc:0.708898+0.0206371\n",
      "[15]\ttrain-auc:0.800714+0.00714858\ttest-auc:0.724476+0.0224035\n",
      "[20]\ttrain-auc:0.806242+0.0073393\ttest-auc:0.73217+0.0168082\n",
      "[25]\ttrain-auc:0.812963+0.00695636\ttest-auc:0.734573+0.0213105\n",
      "[30]\ttrain-auc:0.817209+0.00689402\ttest-auc:0.736642+0.0211548\n",
      "[35]\ttrain-auc:0.820383+0.00496207\ttest-auc:0.738114+0.0246401\n",
      "[40]\ttrain-auc:0.821748+0.00477081\ttest-auc:0.738713+0.0224272\n",
      "[45]\ttrain-auc:0.823329+0.00498408\ttest-auc:0.738176+0.0239566\n",
      "[50]\ttrain-auc:0.823643+0.00517173\ttest-auc:0.738162+0.025573\n",
      "[55]\ttrain-auc:0.82527+0.00589291\ttest-auc:0.739905+0.0245406\n",
      "[60]\ttrain-auc:0.826014+0.00592846\ttest-auc:0.74045+0.0246612\n",
      "[65]\ttrain-auc:0.827038+0.0060069\ttest-auc:0.739038+0.0269818\n",
      "[70]\ttrain-auc:0.827944+0.00625606\ttest-auc:0.740228+0.0255671\n",
      "[75]\ttrain-auc:0.828957+0.00676806\ttest-auc:0.740933+0.0255096\n",
      "[80]\ttrain-auc:0.828909+0.006527\ttest-auc:0.741394+0.0261439\n",
      "[85]\ttrain-auc:0.82991+0.00664827\ttest-auc:0.741101+0.0263583\n",
      "[90]\ttrain-auc:0.830576+0.00666695\ttest-auc:0.740452+0.026374\n",
      "[95]\ttrain-auc:0.830933+0.0067977\ttest-auc:0.740862+0.0261174\n",
      "[100]\ttrain-auc:0.830885+0.00688408\ttest-auc:0.740928+0.0263609\n",
      "[105]\ttrain-auc:0.831256+0.00676113\ttest-auc:0.741747+0.0266815\n",
      "[110]\ttrain-auc:0.831244+0.00681658\ttest-auc:0.741604+0.0269063\n",
      "[115]\ttrain-auc:0.831602+0.00696871\ttest-auc:0.741543+0.0273925\n",
      "[120]\ttrain-auc:0.832185+0.00649409\ttest-auc:0.741985+0.0276435\n",
      "[125]\ttrain-auc:0.832111+0.00647605\ttest-auc:0.741456+0.0277549\n",
      "[130]\ttrain-auc:0.832126+0.00647956\ttest-auc:0.741573+0.0277267\n",
      "[135]\ttrain-auc:0.832365+0.00660719\ttest-auc:0.741626+0.027805\n",
      "[140]\ttrain-auc:0.832647+0.00678208\ttest-auc:0.74164+0.0286153\n",
      "[145]\ttrain-auc:0.832981+0.00675956\ttest-auc:0.741479+0.0281856\n",
      "[150]\ttrain-auc:0.833175+0.0069396\ttest-auc:0.741915+0.0277656\n",
      "\n",
      "Model Report\n",
      "Accuracy : 0.8094462541\n",
      "AUC Score (Train): 0.827625\n"
     ]
    },
    {
     "data": {
      "image/png": "[encoded data removed]",
      "text/plain": [
       "<Figure size 432x288 with 1 Axes>"
      ]
     },
     "metadata": {
      "needs_background": "light"
     },
     "output_type": "display_data"
    }
   ],
   "source": [
    "#retrain the model\n",
    "\n",
    "#Choose all predictors except target\n",
    "predictors = [x for x in x_train.columns if x not in ['loan_status']]\n",
    "xgb3 = XGBClassifier(\n",
    " learning_rate =0.1,\n",
    " n_estimators=200,\n",
    " max_depth=7,\n",
    " min_child_weight=5,\n",
    " gamma=0.3,\n",
    " subsample=0.85,\n",
    " colsample_bytree=0.9,\n",
    " objective= 'binary:logistic',\n",
    " nthread=-1,\n",
    " scale_pos_weight=1,\n",
    " reg_alpha = 10,\n",
    " seed=0, \n",
    " silent = True)\n",
    "modelfit(xgb3, x_train, predictors)"
   ]
  },
  {
   "cell_type": "code",
   "execution_count": 452,
   "metadata": {},
   "outputs": [],
   "source": [
    "df2 = output(xgb3.predict(x_test[predictors]), comb1 )\n",
    "df2.to_csv('20190908_xgb_wip_v4.csv',index=False)\n",
    "#AUC = 0.777\n",
    "#score has gone down, need to reduce the reg strength\n",
    "#2nd iteration: reg has reduced the score, so we will not use it"
   ]
  },
  {
   "cell_type": "code",
   "execution_count": 470,
   "metadata": {},
   "outputs": [
    {
     "name": "stdout",
     "output_type": "stream",
     "text": [
      "[0]\ttrain-auc:0.740617+0.0487083\ttest-auc:0.684398+0.0930728\n",
      "[5]\ttrain-auc:0.860316+0.00657609\ttest-auc:0.748356+0.031789\n",
      "[10]\ttrain-auc:0.880824+0.00374752\ttest-auc:0.747733+0.0286448\n",
      "[15]\ttrain-auc:0.892226+0.00209475\ttest-auc:0.756705+0.0261693\n",
      "[20]\ttrain-auc:0.900459+0.00309705\ttest-auc:0.754831+0.0320322\n",
      "[25]\ttrain-auc:0.904735+0.00465286\ttest-auc:0.757128+0.0285709\n",
      "[30]\ttrain-auc:0.909539+0.00545354\ttest-auc:0.757925+0.0282263\n",
      "[35]\ttrain-auc:0.912798+0.00636714\ttest-auc:0.761863+0.0267063\n",
      "[40]\ttrain-auc:0.915427+0.00578837\ttest-auc:0.762148+0.0296107\n",
      "[45]\ttrain-auc:0.917639+0.00490487\ttest-auc:0.762382+0.0299703\n",
      "[50]\ttrain-auc:0.919565+0.00455574\ttest-auc:0.762236+0.0289896\n",
      "[55]\ttrain-auc:0.923126+0.00468398\ttest-auc:0.762323+0.0263053\n",
      "[60]\ttrain-auc:0.924295+0.0044999\ttest-auc:0.76214+0.0265713\n",
      "[65]\ttrain-auc:0.926312+0.00375628\ttest-auc:0.764762+0.0241739\n",
      "[70]\ttrain-auc:0.928263+0.00383361\ttest-auc:0.763441+0.0239068\n",
      "[75]\ttrain-auc:0.929765+0.00369866\ttest-auc:0.764995+0.0241213\n",
      "[80]\ttrain-auc:0.931853+0.00381494\ttest-auc:0.763254+0.022074\n",
      "[85]\ttrain-auc:0.93405+0.00460076\ttest-auc:0.7666+0.0225888\n",
      "[90]\ttrain-auc:0.935917+0.00433497\ttest-auc:0.767166+0.0216156\n",
      "[95]\ttrain-auc:0.937595+0.00400634\ttest-auc:0.764204+0.0227964\n",
      "[100]\ttrain-auc:0.939855+0.00380157\ttest-auc:0.76439+0.0220634\n",
      "[105]\ttrain-auc:0.94126+0.00434015\ttest-auc:0.766384+0.020506\n",
      "[110]\ttrain-auc:0.94285+0.00385311\ttest-auc:0.766054+0.0211082\n",
      "[115]\ttrain-auc:0.944466+0.00369261\ttest-auc:0.766226+0.0205849\n",
      "[120]\ttrain-auc:0.945822+0.00358389\ttest-auc:0.765999+0.0206158\n",
      "[125]\ttrain-auc:0.946758+0.00341713\ttest-auc:0.765625+0.0224179\n",
      "[130]\ttrain-auc:0.94736+0.00357039\ttest-auc:0.765515+0.0209472\n",
      "[135]\ttrain-auc:0.948523+0.00366635\ttest-auc:0.764754+0.0226782\n",
      "\n",
      "Model Report\n",
      "Accuracy : 0.8338762215\n",
      "AUC Score (Train): 0.936044\n"
     ]
    },
    {
     "data": {
      "image/png": "[encoded data removed]",
      "text/plain": [
       "<Figure size 432x288 with 1 Axes>"
      ]
     },
     "metadata": {
      "needs_background": "light"
     },
     "output_type": "display_data"
    }
   ],
   "source": [
    "#reduce learning rate & increase # trees\n",
    "\n",
    "#Choose all predictors except target\n",
    "predictors = [x for x in x_train.columns if x not in ['loan_status']]\n",
    "xgb4 = XGBClassifier(\n",
    " learning_rate =0.05,\n",
    " n_estimators=1000,\n",
    " max_depth=7,\n",
    " min_child_weight=5,\n",
    " gamma=0.3,\n",
    " subsample=0.8,\n",
    " colsample_bytree=0.8,\n",
    " objective= 'binary:logistic',\n",
    " nthread=-1,\n",
    " scale_pos_weight=1,\n",
    " seed=0, \n",
    " silent = True)\n",
    "modelfit(xgb4, x_train, predictors)"
   ]
  },
  {
   "cell_type": "code",
   "execution_count": 465,
   "metadata": {},
   "outputs": [],
   "source": [
    "df3 = output(xgb4.predict(x_test[predictors]), comb1 )\n",
    "df3.to_csv('20190908_xgb_full_v6.csv',index=False)\n"
   ]
  }
 ],
 "metadata": {
  "kernelspec": {
   "display_name": "Python 3",
   "language": "python",
   "name": "python3"
  },
  "language_info": {
   "codemirror_mode": {
    "name": "ipython",
    "version": 3
   },
   "file_extension": ".py",
   "mimetype": "text/x-python",
   "name": "python",
   "nbconvert_exporter": "python",
   "pygments_lexer": "ipython3",
   "version": "3.7.2"
  }
 },
 "nbformat": 4,
 "nbformat_minor": 2
}
